{
 "cells": [
  {
   "cell_type": "markdown",
   "metadata": {},
   "source": [
    "## ConfigBox from Box Library"
   ]
  },
  {
   "cell_type": "code",
   "execution_count": 4,
   "metadata": {},
   "outputs": [
    {
     "name": "stdout",
     "output_type": "stream",
     "text": [
      "localhost\n",
      "INFO\n",
      "1.0\n",
      "5432\n",
      "MyApp\n",
      "2.0\n",
      "new_value\n"
     ]
    }
   ],
   "source": [
    "from box import ConfigBox\n",
    "\n",
    "# Define a configuration dictionary\n",
    "config_dict = {\n",
    "    \"database\": {\n",
    "        \"host\": \"localhost\",\n",
    "        \"port\": 5432,\n",
    "        \"username\": \"admin\",\n",
    "        \"password\": \"password123\"\n",
    "    },\n",
    "    \"logging\": {\n",
    "        \"level\": \"INFO\",\n",
    "        \"file_path\": \"/path/to/logs/logfile.log\"\n",
    "    },\n",
    "    \"app\": {\n",
    "        \"name\": \"MyApp\",\n",
    "        \"version\": \"1.0\"\n",
    "    }\n",
    "}\n",
    "\n",
    "# Create a ConfigBox instance\n",
    "config = ConfigBox(config_dict)\n",
    "\n",
    "# Access configuration values using attribute syntax\n",
    "print(config.database.host)  # Output: localhost\n",
    "print(config.logging.level)  # Output: INFO\n",
    "print(config.app.version)    # Output: 1.0\n",
    "\n",
    "# You can also access nested values\n",
    "print(config.database.port)  # Output: 5432\n",
    "\n",
    "# ConfigBox also supports dictionary-like access\n",
    "print(config[\"app\"][\"name\"])  # Output: MyApp\n",
    "\n",
    "# Modify configuration values\n",
    "config.app.version = \"2.0\"\n",
    "print(config.app.version)  # Output: 2.0\n",
    "\n",
    "# Add new configuration values\n",
    "config.new_setting = \"new_value\"\n",
    "print(config.new_setting)  # Output: new_value"
   ]
  },
  {
   "cell_type": "code",
   "execution_count": 1,
   "metadata": {},
   "outputs": [],
   "source": [
    "d = {\"roll\":10, \"name\":\"ajay\"}"
   ]
  },
  {
   "cell_type": "code",
   "execution_count": 3,
   "metadata": {},
   "outputs": [
    {
     "data": {
      "text/plain": [
       "'ajay'"
      ]
     },
     "execution_count": 3,
     "metadata": {},
     "output_type": "execute_result"
    }
   ],
   "source": [
    "d2 = ConfigBox(d)\n",
    "\n",
    "d2.name"
   ]
  },
  {
   "cell_type": "markdown",
   "metadata": {},
   "source": [
    "## Ensure Library"
   ]
  },
  {
   "cell_type": "code",
   "execution_count": 11,
   "metadata": {},
   "outputs": [],
   "source": [
    "from ensure import ensure_annotations, EnsureError\n",
    "\n",
    "@ensure_annotations\n",
    "def add(x: int, y: int) -> int:\n",
    "    \"\"\"Add two numbers and return the result.\"\"\"\n",
    "    return x + y"
   ]
  },
  {
   "cell_type": "code",
   "execution_count": 12,
   "metadata": {},
   "outputs": [
    {
     "name": "stdout",
     "output_type": "stream",
     "text": [
      "Result of addition: 7\n",
      "Error: Argument x of type <class 'str'> to <function add at 0x0000016259B7FBA0> does not match annotation type <class 'int'>\n",
      "Please provide integer arguments for addition.\n"
     ]
    }
   ],
   "source": [
    "try:\n",
    "    result = add(3, 4)  # This will work fine\n",
    "    print(\"Result of addition:\", result)\n",
    "\n",
    "    result = add(\"hello\", \"world\")  # This will raise an EnsureError\n",
    "except EnsureError as e:\n",
    "    print(\"Error:\", e)\n",
    "    print(\"Please provide integer arguments for addition.\")"
   ]
  },
  {
   "cell_type": "code",
   "execution_count": null,
   "metadata": {},
   "outputs": [],
   "source": []
  }
 ],
 "metadata": {
  "kernelspec": {
   "display_name": "Python 3",
   "language": "python",
   "name": "python3"
  },
  "language_info": {
   "codemirror_mode": {
    "name": "ipython",
    "version": 3
   },
   "file_extension": ".py",
   "mimetype": "text/x-python",
   "name": "python",
   "nbconvert_exporter": "python",
   "pygments_lexer": "ipython3",
   "version": "3.11.8"
  }
 },
 "nbformat": 4,
 "nbformat_minor": 2
}
